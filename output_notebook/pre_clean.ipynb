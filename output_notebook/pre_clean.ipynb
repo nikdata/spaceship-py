{
 "cells": [
  {
   "cell_type": "code",
   "execution_count": 1,
   "id": "01843c6e",
   "metadata": {
    "execution": {
     "iopub.execute_input": "2023-04-26T19:50:07.319986Z",
     "iopub.status.busy": "2023-04-26T19:50:07.318898Z",
     "iopub.status.idle": "2023-04-26T19:50:07.329795Z",
     "shell.execute_reply": "2023-04-26T19:50:07.329083Z"
    },
    "papermill": {
     "duration": 0.026327,
     "end_time": "2023-04-26T19:50:07.331570",
     "exception": false,
     "start_time": "2023-04-26T19:50:07.305243",
     "status": "completed"
    },
    "tags": [
     "parameters"
    ]
   },
   "outputs": [],
   "source": [
    "# declare a list tasks whose products you want to use as inputs\n",
    "upstream = ['impute_missing_values']"
   ]
  },
  {
   "cell_type": "code",
   "execution_count": 2,
   "id": "5095e781",
   "metadata": {
    "execution": {
     "iopub.execute_input": "2023-04-26T19:50:07.344462Z",
     "iopub.status.busy": "2023-04-26T19:50:07.343778Z",
     "iopub.status.idle": "2023-04-26T19:50:07.347637Z",
     "shell.execute_reply": "2023-04-26T19:50:07.347059Z"
    },
    "papermill": {
     "duration": 0.010467,
     "end_time": "2023-04-26T19:50:07.348835",
     "exception": false,
     "start_time": "2023-04-26T19:50:07.338368",
     "status": "completed"
    },
    "tags": [
     "injected-parameters"
    ]
   },
   "outputs": [],
   "source": [
    "# Parameters\n",
    "upstream = {\"impute_missing_values\": {\"nb\": \"/workspaces/spaceship-py/output_notebook/impute_missing.ipynb\", \"data\": \"/workspaces/spaceship-py/output/imputed_data.csv\"}}\n",
    "product = {\"nb\": \"/workspaces/spaceship-py/output_notebook/pre_clean.ipynb\", \"data\": \"/workspaces/spaceship-py/output/pre_clean.csv\"}\n"
   ]
  },
  {
   "cell_type": "code",
   "execution_count": 3,
   "id": "5bb1122a",
   "metadata": {
    "execution": {
     "iopub.execute_input": "2023-04-26T19:50:07.355888Z",
     "iopub.status.busy": "2023-04-26T19:50:07.355678Z",
     "iopub.status.idle": "2023-04-26T19:50:07.624573Z",
     "shell.execute_reply": "2023-04-26T19:50:07.624070Z"
    },
    "papermill": {
     "duration": 0.273535,
     "end_time": "2023-04-26T19:50:07.625410",
     "exception": false,
     "start_time": "2023-04-26T19:50:07.351875",
     "status": "completed"
    },
    "tags": []
   },
   "outputs": [],
   "source": [
    "import pandas as pd\n",
    "\n",
    "df = pd.read_csv(upstream['impute_missing_values']['data'])\n",
    "\n",
    "df[['group_number','pass_slot']] = df.passengerid.str.split(\"_\", expand=True)\n",
    "\n",
    "df[['deck','number','side']] = df.cabin.str.split('/', expand=True)\n",
    "\n",
    "# write out file\n",
    "df.to_csv(product['data'], index=False)"
   ]
  }
 ],
 "metadata": {
  "jupytext": {
   "cell_metadata_filter": "tags,-all",
   "main_language": "python",
   "notebook_metadata_filter": "-all",
   "text_representation": {
    "extension": ".py",
    "format_name": "percent"
   }
  },
  "kernelspec": {
   "display_name": "Python 3 (ipykernel)",
   "language": "python",
   "name": "python3"
  },
  "language_info": {
   "codemirror_mode": {
    "name": "ipython",
    "version": 3
   },
   "file_extension": ".py",
   "mimetype": "text/x-python",
   "name": "python",
   "nbconvert_exporter": "python",
   "pygments_lexer": "ipython3",
   "version": "3.10.11"
  },
  "papermill": {
   "duration": 1.12132,
   "end_time": "2023-04-26T19:50:07.741480",
   "exception": null,
   "input_path": "/tmp/tmptr26houx.ipynb",
   "output_path": "/workspaces/spaceship-py/output_notebook/pre_clean.ipynb",
   "parameters": {
    "product": {
     "data": "/workspaces/spaceship-py/output/pre_clean.csv",
     "nb": "/workspaces/spaceship-py/output_notebook/pre_clean.ipynb"
    },
    "upstream": {
     "impute_missing_values": {
      "data": "/workspaces/spaceship-py/output/imputed_data.csv",
      "nb": "/workspaces/spaceship-py/output_notebook/impute_missing.ipynb"
     }
    }
   },
   "start_time": "2023-04-26T19:50:06.620160"
  }
 },
 "nbformat": 4,
 "nbformat_minor": 5
}