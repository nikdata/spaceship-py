{
 "cells": [
  {
   "cell_type": "code",
   "execution_count": 1,
   "id": "b9c72c3f",
   "metadata": {
    "execution": {
     "iopub.execute_input": "2023-04-26T19:14:38.059739Z",
     "iopub.status.busy": "2023-04-26T19:14:38.059023Z",
     "iopub.status.idle": "2023-04-26T19:14:38.069710Z",
     "shell.execute_reply": "2023-04-26T19:14:38.068878Z"
    },
    "papermill": {
     "duration": 0.027881,
     "end_time": "2023-04-26T19:14:38.071619",
     "exception": false,
     "start_time": "2023-04-26T19:14:38.043738",
     "status": "completed"
    },
    "tags": [
     "parameters"
    ]
   },
   "outputs": [],
   "source": [
    "# declare a list tasks whose products you want to use as inputs\n",
    "upstream = ['initial_cleaning']"
   ]
  },
  {
   "cell_type": "code",
   "execution_count": 2,
   "id": "20225ca8",
   "metadata": {
    "execution": {
     "iopub.execute_input": "2023-04-26T19:14:38.083913Z",
     "iopub.status.busy": "2023-04-26T19:14:38.083278Z",
     "iopub.status.idle": "2023-04-26T19:14:38.087097Z",
     "shell.execute_reply": "2023-04-26T19:14:38.086441Z"
    },
    "papermill": {
     "duration": 0.010916,
     "end_time": "2023-04-26T19:14:38.088519",
     "exception": false,
     "start_time": "2023-04-26T19:14:38.077603",
     "status": "completed"
    },
    "tags": [
     "injected-parameters"
    ]
   },
   "outputs": [],
   "source": [
    "# Parameters\n",
    "upstream = {\"initial_cleaning\": {\"nb\": \"/workspaces/spaceship-py/output_notebook/initial_clean.ipynb\", \"data\": \"/workspaces/spaceship-py/output/initial_clean.csv\"}}\n",
    "product = {\"nb\": \"/workspaces/spaceship-py/output_notebook/descriptive_stats.ipynb\", \"data\": \"/workspaces/spaceship-py/output/descriptive_stats.csv\"}\n"
   ]
  },
  {
   "cell_type": "code",
   "execution_count": 3,
   "id": "bb4c32a8",
   "metadata": {
    "execution": {
     "iopub.execute_input": "2023-04-26T19:14:38.096217Z",
     "iopub.status.busy": "2023-04-26T19:14:38.095663Z",
     "iopub.status.idle": "2023-04-26T19:14:38.234195Z",
     "shell.execute_reply": "2023-04-26T19:14:38.233711Z"
    },
    "papermill": {
     "duration": 0.143168,
     "end_time": "2023-04-26T19:14:38.235008",
     "exception": false,
     "start_time": "2023-04-26T19:14:38.091840",
     "status": "completed"
    },
    "tags": []
   },
   "outputs": [],
   "source": [
    "import pandas as pd\n",
    "\n",
    "df = pd.read_csv(upstream['initial_cleaning']['data'])"
   ]
  },
  {
   "cell_type": "code",
   "execution_count": 4,
   "id": "3e41b8ed",
   "metadata": {
    "execution": {
     "iopub.execute_input": "2023-04-26T19:14:38.239724Z",
     "iopub.status.busy": "2023-04-26T19:14:38.239608Z",
     "iopub.status.idle": "2023-04-26T19:14:38.243595Z",
     "shell.execute_reply": "2023-04-26T19:14:38.243295Z"
    },
    "papermill": {
     "duration": 0.007122,
     "end_time": "2023-04-26T19:14:38.244267",
     "exception": false,
     "start_time": "2023-04-26T19:14:38.237145",
     "status": "completed"
    },
    "tags": []
   },
   "outputs": [],
   "source": [
    "# let's find the missing values\n",
    "tbl_missing = pd.DataFrame(df.isna().sum(), columns = ['missing']).reset_index()"
   ]
  },
  {
   "cell_type": "code",
   "execution_count": 5,
   "id": "3fb297ce",
   "metadata": {
    "execution": {
     "iopub.execute_input": "2023-04-26T19:14:38.248160Z",
     "iopub.status.busy": "2023-04-26T19:14:38.247921Z",
     "iopub.status.idle": "2023-04-26T19:14:38.250086Z",
     "shell.execute_reply": "2023-04-26T19:14:38.249850Z"
    },
    "papermill": {
     "duration": 0.004823,
     "end_time": "2023-04-26T19:14:38.250691",
     "exception": false,
     "start_time": "2023-04-26T19:14:38.245868",
     "status": "completed"
    },
    "tags": []
   },
   "outputs": [],
   "source": [
    "# let's find the data types for each columm\n",
    "tbl_types = pd.DataFrame(df.dtypes, columns = ['type']).reset_index()"
   ]
  },
  {
   "cell_type": "code",
   "execution_count": 6,
   "id": "2a02f3a1",
   "metadata": {
    "execution": {
     "iopub.execute_input": "2023-04-26T19:14:38.254409Z",
     "iopub.status.busy": "2023-04-26T19:14:38.254144Z",
     "iopub.status.idle": "2023-04-26T19:14:38.269241Z",
     "shell.execute_reply": "2023-04-26T19:14:38.268920Z"
    },
    "papermill": {
     "duration": 0.017739,
     "end_time": "2023-04-26T19:14:38.269918",
     "exception": false,
     "start_time": "2023-04-26T19:14:38.252179",
     "status": "completed"
    },
    "tags": []
   },
   "outputs": [],
   "source": [
    "# let's get the descriptive stats\n",
    "tbl_stats = df.describe(include='all', percentiles=[0.10, 0.25, 0.50, 0.75, 0.80, 0.90, 0.95, 0.99]).transpose().reset_index()"
   ]
  },
  {
   "cell_type": "code",
   "execution_count": 7,
   "id": "2fb8d9fc",
   "metadata": {
    "execution": {
     "iopub.execute_input": "2023-04-26T19:14:38.274536Z",
     "iopub.status.busy": "2023-04-26T19:14:38.274303Z",
     "iopub.status.idle": "2023-04-26T19:14:38.277695Z",
     "shell.execute_reply": "2023-04-26T19:14:38.277425Z"
    },
    "papermill": {
     "duration": 0.006434,
     "end_time": "2023-04-26T19:14:38.278311",
     "exception": false,
     "start_time": "2023-04-26T19:14:38.271877",
     "status": "completed"
    },
    "tags": []
   },
   "outputs": [],
   "source": [
    "\n",
    "# combine the datasets together\n",
    "df_stats = tbl_missing.merge(tbl_types, left_on = ['index'], right_on = ['index'], how = 'inner').merge(tbl_stats, left_on=['index'], right_on=['index'], how='inner')"
   ]
  },
  {
   "cell_type": "code",
   "execution_count": 8,
   "id": "c4c55b66",
   "metadata": {
    "execution": {
     "iopub.execute_input": "2023-04-26T19:14:38.282095Z",
     "iopub.status.busy": "2023-04-26T19:14:38.281825Z",
     "iopub.status.idle": "2023-04-26T19:14:38.285545Z",
     "shell.execute_reply": "2023-04-26T19:14:38.285250Z"
    },
    "papermill": {
     "duration": 0.006067,
     "end_time": "2023-04-26T19:14:38.286084",
     "exception": false,
     "start_time": "2023-04-26T19:14:38.280017",
     "status": "completed"
    },
    "tags": []
   },
   "outputs": [],
   "source": [
    "\n",
    "# write out the file\n",
    "df_stats.to_csv(product['data'], index=False)"
   ]
  }
 ],
 "metadata": {
  "jupytext": {
   "cell_metadata_filter": "tags,-all",
   "main_language": "python",
   "notebook_metadata_filter": "-all",
   "text_representation": {
    "extension": ".py",
    "format_name": "percent"
   }
  },
  "kernelspec": {
   "display_name": "Python 3 (ipykernel)",
   "language": "python",
   "name": "python3"
  },
  "language_info": {
   "codemirror_mode": {
    "name": "ipython",
    "version": 3
   },
   "file_extension": ".py",
   "mimetype": "text/x-python",
   "name": "python",
   "nbconvert_exporter": "python",
   "pygments_lexer": "ipython3",
   "version": "3.10.11"
  },
  "papermill": {
   "duration": 1.042944,
   "end_time": "2023-04-26T19:14:38.404376",
   "exception": null,
   "input_path": "/tmp/tmpy3yh5n7t.ipynb",
   "output_path": "/workspaces/spaceship-py/output_notebook/descriptive_stats.ipynb",
   "parameters": {
    "product": {
     "data": "/workspaces/spaceship-py/output/descriptive_stats.csv",
     "nb": "/workspaces/spaceship-py/output_notebook/descriptive_stats.ipynb"
    },
    "upstream": {
     "initial_cleaning": {
      "data": "/workspaces/spaceship-py/output/initial_clean.csv",
      "nb": "/workspaces/spaceship-py/output_notebook/initial_clean.ipynb"
     }
    }
   },
   "start_time": "2023-04-26T19:14:37.361432"
  }
 },
 "nbformat": 4,
 "nbformat_minor": 5
}