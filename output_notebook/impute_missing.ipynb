{
 "cells": [
  {
   "cell_type": "code",
   "execution_count": 1,
   "id": "644510ba",
   "metadata": {
    "execution": {
     "iopub.execute_input": "2023-04-26T19:46:18.460710Z",
     "iopub.status.busy": "2023-04-26T19:46:18.460196Z",
     "iopub.status.idle": "2023-04-26T19:46:18.470375Z",
     "shell.execute_reply": "2023-04-26T19:46:18.469695Z"
    },
    "papermill": {
     "duration": 0.02692,
     "end_time": "2023-04-26T19:46:18.471990",
     "exception": false,
     "start_time": "2023-04-26T19:46:18.445070",
     "status": "completed"
    },
    "tags": [
     "parameters"
    ]
   },
   "outputs": [],
   "source": [
    "# declare a list tasks whose products you want to use as inputs\n",
    "upstream = ['initial_cleaning']"
   ]
  },
  {
   "cell_type": "code",
   "execution_count": 2,
   "id": "4b88eefe",
   "metadata": {
    "execution": {
     "iopub.execute_input": "2023-04-26T19:46:18.484764Z",
     "iopub.status.busy": "2023-04-26T19:46:18.484010Z",
     "iopub.status.idle": "2023-04-26T19:46:18.487835Z",
     "shell.execute_reply": "2023-04-26T19:46:18.487260Z"
    },
    "papermill": {
     "duration": 0.010449,
     "end_time": "2023-04-26T19:46:18.489222",
     "exception": false,
     "start_time": "2023-04-26T19:46:18.478773",
     "status": "completed"
    },
    "tags": [
     "injected-parameters"
    ]
   },
   "outputs": [],
   "source": [
    "# Parameters\n",
    "upstream = {\"initial_cleaning\": {\"nb\": \"/workspaces/spaceship-py/output_notebook/initial_clean.ipynb\", \"data\": \"/workspaces/spaceship-py/output/initial_clean.csv\"}}\n",
    "product = {\"nb\": \"/workspaces/spaceship-py/output_notebook/impute_missing.ipynb\", \"data\": \"/workspaces/spaceship-py/output/imputed_data.csv\"}\n"
   ]
  },
  {
   "cell_type": "code",
   "execution_count": 3,
   "id": "53ee259a",
   "metadata": {
    "execution": {
     "iopub.execute_input": "2023-04-26T19:46:18.496187Z",
     "iopub.status.busy": "2023-04-26T19:46:18.495684Z",
     "iopub.status.idle": "2023-04-26T19:46:18.616480Z",
     "shell.execute_reply": "2023-04-26T19:46:18.616034Z"
    },
    "papermill": {
     "duration": 0.124983,
     "end_time": "2023-04-26T19:46:18.617344",
     "exception": false,
     "start_time": "2023-04-26T19:46:18.492361",
     "status": "completed"
    },
    "tags": []
   },
   "outputs": [],
   "source": [
    "import pandas as pd"
   ]
  },
  {
   "cell_type": "code",
   "execution_count": 4,
   "id": "b87c12a6",
   "metadata": {
    "execution": {
     "iopub.execute_input": "2023-04-26T19:46:18.622252Z",
     "iopub.status.busy": "2023-04-26T19:46:18.621946Z",
     "iopub.status.idle": "2023-04-26T19:46:18.637475Z",
     "shell.execute_reply": "2023-04-26T19:46:18.637104Z"
    },
    "papermill": {
     "duration": 0.018719,
     "end_time": "2023-04-26T19:46:18.638373",
     "exception": false,
     "start_time": "2023-04-26T19:46:18.619654",
     "status": "completed"
    },
    "tags": []
   },
   "outputs": [],
   "source": [
    "# read in the source file\n",
    "df = pd.read_csv(upstream['initial_cleaning']['data'])"
   ]
  },
  {
   "cell_type": "code",
   "execution_count": 5,
   "id": "acf50d85",
   "metadata": {
    "execution": {
     "iopub.execute_input": "2023-04-26T19:46:18.642531Z",
     "iopub.status.busy": "2023-04-26T19:46:18.642300Z",
     "iopub.status.idle": "2023-04-26T19:46:18.653728Z",
     "shell.execute_reply": "2023-04-26T19:46:18.653463Z"
    },
    "papermill": {
     "duration": 0.014174,
     "end_time": "2023-04-26T19:46:18.654315",
     "exception": false,
     "start_time": "2023-04-26T19:46:18.640141",
     "status": "completed"
    },
    "tags": []
   },
   "outputs": [],
   "source": [
    "\n",
    "# impute values with median\n",
    "df['age'] = df.age.fillna(df.age.median)\n",
    "df['rommservice'] = df.roomservice.fillna(df.roomservice.median)\n",
    "df['foodcourt'] = df.foodcourt.fillna(df.foodcourt.median)\n",
    "df['shoppingmall'] = df.shoppingmall.fillna(df.shoppingmall.median)\n",
    "df['spa'] = df.spa.fillna(df.spa.median)\n",
    "df['vrdeck'] = df.vrdeck.fillna(df.vrdeck.median)\n",
    "\n",
    "# impute the boolean\n",
    "df['missing_cryo'] = 0\n",
    "df.loc[df['cryosleep'].isna() == True, 'missing_cryo'] = 1\n",
    "df['cryosleep'] = df['cryosleep'].fillna(False)\n",
    "\n",
    "df['missing_vip'] = 0\n",
    "df.loc[df['vip'].isna() == True, 'missing_vip'] = 1\n",
    "df['vip'] = df['vip'].fillna(False)\n",
    "\n",
    "# impute missing char columns\n",
    "df['missing_home'] = 0\n",
    "df.loc[df['homeplanet'].isna() == True, 'missing_home'] = 1\n",
    "df['homeplanet'] = df['homeplanet'].fillna('unknown')\n",
    "\n",
    "df['missing_cabin'] = 0\n",
    "df.loc[df['cabin'].isna() == True, 'missing_cabin'] = 1\n",
    "df['cabin'] = df['cabin'].fillna('unknown')\n",
    "\n",
    "df['missing_destination'] = 0\n",
    "df.loc[df['destination'].isna() == True, 'missing_destination'] = 1\n",
    "df['destination'] = df['destination'].fillna('unknown')\n",
    "\n",
    "df['missing_name'] = 0\n",
    "df.loc[df['name'].isna() == True, 'missing_name'] = 1\n",
    "df['name'] = df['name'].fillna('unknown')"
   ]
  },
  {
   "cell_type": "code",
   "execution_count": 6,
   "id": "c808e00c",
   "metadata": {
    "execution": {
     "iopub.execute_input": "2023-04-26T19:46:18.658130Z",
     "iopub.status.busy": "2023-04-26T19:46:18.657896Z",
     "iopub.status.idle": "2023-04-26T19:46:19.102946Z",
     "shell.execute_reply": "2023-04-26T19:46:19.102580Z"
    },
    "papermill": {
     "duration": 0.447834,
     "end_time": "2023-04-26T19:46:19.103769",
     "exception": false,
     "start_time": "2023-04-26T19:46:18.655935",
     "status": "completed"
    },
    "tags": []
   },
   "outputs": [],
   "source": [
    "# write out file\n",
    "\n",
    "df.to_csv(product['data'], index = False)"
   ]
  }
 ],
 "metadata": {
  "jupytext": {
   "cell_metadata_filter": "tags,-all",
   "main_language": "python",
   "notebook_metadata_filter": "-all",
   "text_representation": {
    "extension": ".py",
    "format_name": "percent"
   }
  },
  "kernelspec": {
   "display_name": "Python 3 (ipykernel)",
   "language": "python",
   "name": "python3"
  },
  "language_info": {
   "codemirror_mode": {
    "name": "ipython",
    "version": 3
   },
   "file_extension": ".py",
   "mimetype": "text/x-python",
   "name": "python",
   "nbconvert_exporter": "python",
   "pygments_lexer": "ipython3",
   "version": "3.10.11"
  },
  "papermill": {
   "duration": 1.456073,
   "end_time": "2023-04-26T19:46:19.222204",
   "exception": null,
   "input_path": "/tmp/tmprenb124b.ipynb",
   "output_path": "/workspaces/spaceship-py/output_notebook/impute_missing.ipynb",
   "parameters": {
    "product": {
     "data": "/workspaces/spaceship-py/output/imputed_data.csv",
     "nb": "/workspaces/spaceship-py/output_notebook/impute_missing.ipynb"
    },
    "upstream": {
     "initial_cleaning": {
      "data": "/workspaces/spaceship-py/output/initial_clean.csv",
      "nb": "/workspaces/spaceship-py/output_notebook/initial_clean.ipynb"
     }
    }
   },
   "start_time": "2023-04-26T19:46:17.766131"
  }
 },
 "nbformat": 4,
 "nbformat_minor": 5
}