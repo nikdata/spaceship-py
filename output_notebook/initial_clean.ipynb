{
 "cells": [
  {
   "cell_type": "code",
   "execution_count": 1,
   "id": "26d361ff",
   "metadata": {
    "execution": {
     "iopub.execute_input": "2023-04-25T03:22:28.193741Z",
     "iopub.status.busy": "2023-04-25T03:22:28.193412Z",
     "iopub.status.idle": "2023-04-25T03:22:28.201309Z",
     "shell.execute_reply": "2023-04-25T03:22:28.200669Z"
    },
    "lines_to_next_cell": 2,
    "papermill": {
     "duration": 0.01625,
     "end_time": "2023-04-25T03:22:28.202761",
     "exception": false,
     "start_time": "2023-04-25T03:22:28.186511",
     "status": "completed"
    },
    "tags": [
     "parameters"
    ]
   },
   "outputs": [],
   "source": [
    "# declare a list tasks whose products you want to use as inputs\n",
    "upstream = None"
   ]
  },
  {
   "cell_type": "code",
   "execution_count": 2,
   "id": "353f1ae8",
   "metadata": {
    "execution": {
     "iopub.execute_input": "2023-04-25T03:22:28.211207Z",
     "iopub.status.busy": "2023-04-25T03:22:28.211030Z",
     "iopub.status.idle": "2023-04-25T03:22:28.213543Z",
     "shell.execute_reply": "2023-04-25T03:22:28.213038Z"
    },
    "papermill": {
     "duration": 0.007405,
     "end_time": "2023-04-25T03:22:28.214585",
     "exception": false,
     "start_time": "2023-04-25T03:22:28.207180",
     "status": "completed"
    },
    "tags": [
     "injected-parameters"
    ]
   },
   "outputs": [],
   "source": [
    "# Parameters\n",
    "product = {\"nb\": \"/workspaces/spaceship-py/output_notebook/initial_clean.ipynb\", \"data\": \"/workspaces/spaceship-py/output/initial_clean.csv\"}\n"
   ]
  },
  {
   "cell_type": "code",
   "execution_count": 3,
   "id": "a7290800",
   "metadata": {
    "execution": {
     "iopub.execute_input": "2023-04-25T03:22:28.220593Z",
     "iopub.status.busy": "2023-04-25T03:22:28.220166Z",
     "iopub.status.idle": "2023-04-25T03:22:28.335731Z",
     "shell.execute_reply": "2023-04-25T03:22:28.335286Z"
    },
    "lines_to_next_cell": 2,
    "papermill": {
     "duration": 0.119356,
     "end_time": "2023-04-25T03:22:28.336480",
     "exception": false,
     "start_time": "2023-04-25T03:22:28.217124",
     "status": "completed"
    },
    "tags": []
   },
   "outputs": [],
   "source": [
    "import pandas as pd"
   ]
  },
  {
   "cell_type": "code",
   "execution_count": 4,
   "id": "f039caa3",
   "metadata": {
    "execution": {
     "iopub.execute_input": "2023-04-25T03:22:28.342288Z",
     "iopub.status.busy": "2023-04-25T03:22:28.342153Z",
     "iopub.status.idle": "2023-04-25T03:22:28.357227Z",
     "shell.execute_reply": "2023-04-25T03:22:28.356829Z"
    },
    "lines_to_next_cell": 2,
    "papermill": {
     "duration": 0.01895,
     "end_time": "2023-04-25T03:22:28.357902",
     "exception": false,
     "start_time": "2023-04-25T03:22:28.338952",
     "status": "completed"
    },
    "tags": []
   },
   "outputs": [],
   "source": [
    "df = pd.read_csv('data/train.csv', sep=',')"
   ]
  },
  {
   "cell_type": "code",
   "execution_count": 5,
   "id": "47bc1664",
   "metadata": {
    "execution": {
     "iopub.execute_input": "2023-04-25T03:22:28.362206Z",
     "iopub.status.busy": "2023-04-25T03:22:28.361927Z",
     "iopub.status.idle": "2023-04-25T03:22:28.363847Z",
     "shell.execute_reply": "2023-04-25T03:22:28.363573Z"
    },
    "lines_to_next_cell": 0,
    "papermill": {
     "duration": 0.004606,
     "end_time": "2023-04-25T03:22:28.364414",
     "exception": false,
     "start_time": "2023-04-25T03:22:28.359808",
     "status": "completed"
    },
    "tags": []
   },
   "outputs": [],
   "source": [
    "new_cols = df.columns.str.lower()\n",
    "\n",
    "df.columns = new_cols"
   ]
  },
  {
   "cell_type": "code",
   "execution_count": 6,
   "id": "34a259c4",
   "metadata": {
    "execution": {
     "iopub.execute_input": "2023-04-25T03:22:28.368044Z",
     "iopub.status.busy": "2023-04-25T03:22:28.367950Z",
     "iopub.status.idle": "2023-04-25T03:22:28.446997Z",
     "shell.execute_reply": "2023-04-25T03:22:28.446523Z"
    },
    "papermill": {
     "duration": 0.08185,
     "end_time": "2023-04-25T03:22:28.447762",
     "exception": false,
     "start_time": "2023-04-25T03:22:28.365912",
     "status": "completed"
    },
    "tags": []
   },
   "outputs": [],
   "source": [
    "# write out file\n",
    "df.to_csv(product['data'], index=False)"
   ]
  }
 ],
 "metadata": {
  "jupytext": {
   "cell_metadata_filter": "tags,-all",
   "main_language": "python",
   "notebook_metadata_filter": "-all",
   "text_representation": {
    "extension": ".py",
    "format_name": "percent"
   }
  },
  "kernelspec": {
   "display_name": "Python 3 (ipykernel)",
   "language": "python",
   "name": "python3"
  },
  "language_info": {
   "codemirror_mode": {
    "name": "ipython",
    "version": 3
   },
   "file_extension": ".py",
   "mimetype": "text/x-python",
   "name": "python",
   "nbconvert_exporter": "python",
   "pygments_lexer": "ipython3",
   "version": "3.10.10"
  },
  "papermill": {
   "duration": 0.914786,
   "end_time": "2023-04-25T03:22:28.566459",
   "exception": null,
   "input_path": "/tmp/tmp7it2735p.ipynb",
   "output_path": "/workspaces/spaceship-py/output_notebook/initial_clean.ipynb",
   "parameters": {
    "product": {
     "data": "/workspaces/spaceship-py/output/initial_clean.csv",
     "nb": "/workspaces/spaceship-py/output_notebook/initial_clean.ipynb"
    }
   },
   "start_time": "2023-04-25T03:22:27.651673"
  }
 },
 "nbformat": 4,
 "nbformat_minor": 5
}